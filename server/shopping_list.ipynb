{
 "cells": [
  {
   "cell_type": "code",
   "execution_count": 3,
   "metadata": {},
   "outputs": [],
   "source": [
    "from pprint import pprint\n",
    "\n",
    "from api_key import todo_api_token\n",
    "from todoist_api_python.api import TodoistAPI    \n"
   ]
  },
  {
   "cell_type": "code",
   "execution_count": 2,
   "metadata": {},
   "outputs": [],
   "source": [
    "def add_shopping_list(shopping_items):\n",
    "# shopping_items = [{'item': '...', 'quantity': '...'}]\n",
    "    # Connect to Todoist API\n",
    "    api = TodoistAPI(todo_api_token)\n",
    "\n",
    "    # Get all projects\n",
    "    try:\n",
    "        projects = api.get_projects()\n",
    "    except Exception as error:\n",
    "        print(error)\n",
    "\n",
    "    # Find the 'Shopping List' project\n",
    "    for project in projects:\n",
    "        if project.name == 'Shopping List':\n",
    "            project_id = project.id\n",
    "\n",
    "    for item in shopping_items:\n",
    "        # Add the item to the shopping list\n",
    "        try:\n",
    "            if item['quantity'] != '':\n",
    "                content_text = f\"Buy {item['item']} ({item['quantity']})\"\n",
    "            else:\n",
    "                content_text = f\"Buy {item['item']}\"\n",
    "            task = api.add_task(content=content_text, project_id=project_id)\n",
    "            print(f\"Added item {item['item']}\")\n",
    "        except Exception as error:\n",
    "            print(error)"
   ]
  },
  {
   "cell_type": "markdown",
   "metadata": {},
   "source": [
    "## Manually add ingredients"
   ]
  },
  {
   "cell_type": "code",
   "execution_count": 4,
   "metadata": {},
   "outputs": [],
   "source": [
    "shopping_items = []\n",
    "\n",
    "ingredient = '50g walnut halves'\n",
    "shopping_items.append({'item': 'walnut', 'quantity': '100g'})\n",
    "\n",
    "\n",
    "ingredient = '4 shallots, sliced into half-moons'\n",
    "shopping_items.append({'item': 'shallots', 'quantity': '4'})\n",
    "\n",
    "ingredient = 'small bunch of sage, finely chopped'\n",
    "shopping_items.append({'item': 'sage', 'quantity': ''})\n",
    "\n",
    "ingredient = '200g chard, stalks finely chopped and leaves roughly chopped'\n",
    "shopping_items.append({'item': 'chard (lettuce)', 'quantity': '200g'})\n",
    "\n",
    "ingredient = '2 pears, halved, cored and sliced'\n",
    "shopping_items.append({'item': 'pears', 'quantity': '2'})\n",
    "\n",
    "ingredient = '3 large eggs'\n",
    "shopping_items.append({'item': 'eggs', 'quantity': ''})\n",
    "\n",
    "ingredient = '150g crème fraîche'\n",
    "shopping_items.append({'item': 'crème fraîche', 'quantity': '150g'})\n",
    "\n",
    "ingredient = '150g gorgonzola dolce or vegetarian alternative, torn into bite-sized pieces'\n",
    "shopping_items.append({'item': 'gorgonzola', 'quantity': '150g'})\n",
    "\n",
    "ingredient = '1 tbsp rapeseed oil'\n",
    "shopping_items.append({'item': 'rapeseed oil', 'quantity': ''})\n",
    "\n",
    "ingredient = '1 onion, finely chopped'\n",
    "shopping_items.append({'item': 'onion', 'quantity': '1'})\n",
    "\n",
    "ingredient = '2 carrots, finely diced'\n",
    "shopping_items.append({'item': 'carrots', 'quantity': '2'})\n",
    "\n",
    "shopping_items.append({'item': 'celery sticks', 'quantity': '2'})\n",
    "\n",
    "ingredient = '1 fennel bulb, halved and thinly sliced, fronds reserved'\n",
    "shopping_items.append({'item': 'fennel bulb', 'quantity': '1'})\n",
    "\n",
    "ingredient = '500g carton tomato passata'\n",
    "shopping_items.append({'item': 'tomato passata', 'quantity': '500g'})\n",
    "\n",
    "shopping_items.append({'item': 'parsley', 'quantity': ''})\n",
    "\n",
    "ingredient = '400g pack lean turkey breast mince'\n",
    "shopping_items.append({'item': 'turkey breast mince', 'quantity': '400g'})\n",
    "\n"
   ]
  },
  {
   "cell_type": "markdown",
   "metadata": {},
   "source": [
    "## Prepare shopping list"
   ]
  },
  {
   "cell_type": "code",
   "execution_count": 5,
   "metadata": {},
   "outputs": [
    {
     "name": "stdout",
     "output_type": "stream",
     "text": [
      "[{'item': 'walnut', 'quantity': '100g'},\n",
      " {'item': 'shallots', 'quantity': '4'},\n",
      " {'item': 'sage', 'quantity': ''},\n",
      " {'item': 'chard (lettuce)', 'quantity': '200g'},\n",
      " {'item': 'pears', 'quantity': '2'},\n",
      " {'item': 'eggs', 'quantity': ''},\n",
      " {'item': 'crème fraîche', 'quantity': '150g'},\n",
      " {'item': 'gorgonzola', 'quantity': '150g'},\n",
      " {'item': 'rapeseed oil', 'quantity': ''},\n",
      " {'item': 'onion', 'quantity': '1'},\n",
      " {'item': 'carrots', 'quantity': '2'},\n",
      " {'item': 'celery sticks', 'quantity': '2'},\n",
      " {'item': 'fennel bulb', 'quantity': '1'},\n",
      " {'item': 'tomato passata', 'quantity': '500g'},\n",
      " {'item': 'parsley', 'quantity': ''},\n",
      " {'item': 'turkey breast mince', 'quantity': '400g'}]\n"
     ]
    }
   ],
   "source": [
    "pprint(shopping_items)"
   ]
  },
  {
   "cell_type": "code",
   "execution_count": 6,
   "metadata": {},
   "outputs": [
    {
     "name": "stdout",
     "output_type": "stream",
     "text": [
      "Added item walnut\n",
      "Added item shallots\n",
      "Added item sage\n",
      "Added item chard (lettuce)\n",
      "Added item pears\n",
      "Added item eggs\n",
      "Added item crème fraîche\n",
      "Added item gorgonzola\n",
      "Added item rapeseed oil\n",
      "Added item onion\n",
      "Added item carrots\n",
      "Added item celery sticks\n",
      "Added item fennel bulb\n",
      "Added item tomato passata\n",
      "Added item parsley\n",
      "Added item turkey breast mince\n"
     ]
    }
   ],
   "source": [
    "add_shopping_list(shopping_items)"
   ]
  }
 ],
 "metadata": {
  "kernelspec": {
   "display_name": "dev",
   "language": "python",
   "name": "python3"
  },
  "language_info": {
   "codemirror_mode": {
    "name": "ipython",
    "version": 3
   },
   "file_extension": ".py",
   "mimetype": "text/x-python",
   "name": "python",
   "nbconvert_exporter": "python",
   "pygments_lexer": "ipython3",
   "version": "3.10.11"
  }
 },
 "nbformat": 4,
 "nbformat_minor": 2
}
