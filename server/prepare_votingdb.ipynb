{
 "cells": [
  {
   "cell_type": "markdown",
   "metadata": {},
   "source": [
    "# Prepare voting database\n",
    "Run this code only once to prepare the voting database (no data is added by this script)"
   ]
  },
  {
   "cell_type": "code",
   "execution_count": 1,
   "metadata": {},
   "outputs": [],
   "source": [
    "# Import SQL Alchemy\n",
    "from sqlalchemy import create_engine\n",
    "\n",
    "# Import and establish Base for which classes will be constructed \n",
    "import sqlalchemy\n",
    "from sqlalchemy.ext.declarative import declarative_base\n",
    "from sqlalchemy.orm import Session\n",
    "from sqlalchemy import create_engine, func\n",
    "from sqlalchemy import desc\n",
    "\n",
    "# Import modules to declare columns and column data types\n",
    "from sqlalchemy import Column, Integer, String, Float, Boolean\n",
    "\n",
    "# Get Base\n",
    "Base = declarative_base()\n",
    "\n",
    "# Create vote table\n",
    "class Votes(Base):\n",
    "    __tablename__ = 'votes'\n",
    "    vote_id = Column(Integer, primary_key=True)\n",
    "    date = Column(String)\n",
    "    voter_name = Column(String)\n",
    "    recipe = Column(String)\n",
    "\n",
    "# Create a connection to a SQLite database\n",
    "engine = create_engine('sqlite:///votes_db.sqlite')\n",
    "\n",
    "# Create the tables within the database\n",
    "Base.metadata.create_all(engine)\n",
    "\n",
    "# Start session\n",
    "session = Session(bind=engine)\n",
    "\n",
    "# Commit changes to session\n",
    "session.commit()\n",
    "\n",
    "# Close session\n",
    "session.close()"
   ]
  }
 ],
 "metadata": {
  "kernelspec": {
   "display_name": "dev",
   "language": "python",
   "name": "python3"
  },
  "language_info": {
   "codemirror_mode": {
    "name": "ipython",
    "version": 3
   },
   "file_extension": ".py",
   "mimetype": "text/x-python",
   "name": "python",
   "nbconvert_exporter": "python",
   "pygments_lexer": "ipython3",
   "version": "3.10.11"
  }
 },
 "nbformat": 4,
 "nbformat_minor": 2
}
