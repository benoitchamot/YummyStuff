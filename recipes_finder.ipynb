{
 "cells": [
  {
   "cell_type": "markdown",
   "metadata": {},
   "source": [
    "# House Hunter\n",
    "This notebook uses the code from `browser.py` to clarify the steps and debug the code developed in 2021. Functions learned and developed in 2023, during the Monash University Data Analytics Bootcamp, are used when simpler, more convenient, or more adapted."
   ]
  },
  {
   "cell_type": "code",
   "execution_count": 1,
   "metadata": {},
   "outputs": [],
   "source": [
    "# Import Splinter and BeautifulSoup\n",
    "from splinter import Browser\n",
    "from bs4 import BeautifulSoup\n",
    "from selenium.webdriver.common.keys import Keys"
   ]
  },
  {
   "cell_type": "markdown",
   "metadata": {},
   "source": [
    "## Open https://www.bbcgoodfood.com/ in browser"
   ]
  },
  {
   "cell_type": "code",
   "execution_count": 4,
   "metadata": {},
   "outputs": [
    {
     "ename": "SessionNotCreatedException",
     "evalue": "Message: session not created: This version of ChromeDriver only supports Chrome version 117\nCurrent browser version is 119.0.6045.124 with binary path C:\\Program Files\\Google\\Chrome\\Application\\chrome.exe\nStacktrace:\n\tGetHandleVerifier [0x00007FF6E40E7892+54818]\n\t(No symbol) [0x00007FF6E4056AC2]\n\t(No symbol) [0x00007FF6E3F0DA3B]\n\t(No symbol) [0x00007FF6E3F40972]\n\t(No symbol) [0x00007FF6E3F3FDCE]\n\t(No symbol) [0x00007FF6E3F3AA4B]\n\t(No symbol) [0x00007FF6E3F3802E]\n\t(No symbol) [0x00007FF6E3F767FB]\n\t(No symbol) [0x00007FF6E3F6E883]\n\t(No symbol) [0x00007FF6E3F43691]\n\t(No symbol) [0x00007FF6E3F448D4]\n\tGetHandleVerifier [0x00007FF6E444B992+3610402]\n\tGetHandleVerifier [0x00007FF6E44A1860+3962352]\n\tGetHandleVerifier [0x00007FF6E4499D4F+3930847]\n\tGetHandleVerifier [0x00007FF6E4183646+693206]\n\t(No symbol) [0x00007FF6E4061628]\n\t(No symbol) [0x00007FF6E405D934]\n\t(No symbol) [0x00007FF6E405DA62]\n\t(No symbol) [0x00007FF6E404E113]\n\tBaseThreadInitThunk [0x00007FFAA5247344+20]\n\tRtlUserThreadStart [0x00007FFAA6C226B1+33]\n",
     "output_type": "error",
     "traceback": [
      "\u001b[1;31m---------------------------------------------------------------------------\u001b[0m",
      "\u001b[1;31mSessionNotCreatedException\u001b[0m                Traceback (most recent call last)",
      "\u001b[1;32mc:\\Users\\User\\OneDrive\\Documents\\Dev\\Recipes\\YummyStuff\\recipes_finder.ipynb Cell 4\u001b[0m line \u001b[0;36m2\n\u001b[0;32m      <a href='vscode-notebook-cell:/c%3A/Users/User/OneDrive/Documents/Dev/Recipes/YummyStuff/recipes_finder.ipynb#W3sZmlsZQ%3D%3D?line=0'>1</a>\u001b[0m \u001b[39m# Open automated browser\u001b[39;00m\n\u001b[1;32m----> <a href='vscode-notebook-cell:/c%3A/Users/User/OneDrive/Documents/Dev/Recipes/YummyStuff/recipes_finder.ipynb#W3sZmlsZQ%3D%3D?line=1'>2</a>\u001b[0m browser \u001b[39m=\u001b[39m Browser(\u001b[39m'\u001b[39;49m\u001b[39mchrome\u001b[39;49m\u001b[39m'\u001b[39;49m)\n\u001b[0;32m      <a href='vscode-notebook-cell:/c%3A/Users/User/OneDrive/Documents/Dev/Recipes/YummyStuff/recipes_finder.ipynb#W3sZmlsZQ%3D%3D?line=3'>4</a>\u001b[0m \u001b[39m# Visit website\u001b[39;00m\n\u001b[0;32m      <a href='vscode-notebook-cell:/c%3A/Users/User/OneDrive/Documents/Dev/Recipes/YummyStuff/recipes_finder.ipynb#W3sZmlsZQ%3D%3D?line=4'>5</a>\u001b[0m base_url \u001b[39m=\u001b[39m \u001b[39m\"\u001b[39m\u001b[39mhttps://www.bbcgoodfood.com\u001b[39m\u001b[39m\"\u001b[39m\n",
      "File \u001b[1;32mc:\\Users\\User\\anaconda3\\envs\\dev\\lib\\site-packages\\splinter\\browser.py:125\u001b[0m, in \u001b[0;36mBrowser\u001b[1;34m(driver_name, retry_count, *args, **kwargs)\u001b[0m\n\u001b[0;32m    122\u001b[0m \u001b[39mif\u001b[39;00m driver \u001b[39mis\u001b[39;00m \u001b[39mNone\u001b[39;00m:\n\u001b[0;32m    123\u001b[0m     \u001b[39mraise\u001b[39;00m DriverNotFoundError(\u001b[39mf\u001b[39m\u001b[39m'\u001b[39m\u001b[39mDriver for \u001b[39m\u001b[39m{\u001b[39;00mdriver_name\u001b[39m}\u001b[39;00m\u001b[39m was not found.\u001b[39m\u001b[39m'\u001b[39m)\n\u001b[1;32m--> 125\u001b[0m \u001b[39mreturn\u001b[39;00m get_driver(driver, retry_count\u001b[39m=\u001b[39mretry_count, \u001b[39m*\u001b[39margs, \u001b[39m*\u001b[39m\u001b[39m*\u001b[39mkwargs)\n",
      "File \u001b[1;32mc:\\Users\\User\\anaconda3\\envs\\dev\\lib\\site-packages\\splinter\\browser.py:97\u001b[0m, in \u001b[0;36mget_driver\u001b[1;34m(driver, retry_count, *args, **kwargs)\u001b[0m\n\u001b[0;32m     94\u001b[0m     \u001b[39mexcept\u001b[39;00m driver_exceptions \u001b[39mas\u001b[39;00m e:\n\u001b[0;32m     95\u001b[0m         err \u001b[39m=\u001b[39m e\n\u001b[1;32m---> 97\u001b[0m \u001b[39mraise\u001b[39;00m err\n",
      "File \u001b[1;32mc:\\Users\\User\\anaconda3\\envs\\dev\\lib\\site-packages\\splinter\\browser.py:93\u001b[0m, in \u001b[0;36mget_driver\u001b[1;34m(driver, retry_count, *args, **kwargs)\u001b[0m\n\u001b[0;32m     91\u001b[0m \u001b[39mfor\u001b[39;00m _ \u001b[39min\u001b[39;00m \u001b[39mrange\u001b[39m(retry_count):\n\u001b[0;32m     92\u001b[0m     \u001b[39mtry\u001b[39;00m:\n\u001b[1;32m---> 93\u001b[0m         \u001b[39mreturn\u001b[39;00m driver(\u001b[39m*\u001b[39margs, \u001b[39m*\u001b[39m\u001b[39m*\u001b[39mkwargs)\n\u001b[0;32m     94\u001b[0m     \u001b[39mexcept\u001b[39;00m driver_exceptions \u001b[39mas\u001b[39;00m e:\n\u001b[0;32m     95\u001b[0m         err \u001b[39m=\u001b[39m e\n",
      "File \u001b[1;32mc:\\Users\\User\\anaconda3\\envs\\dev\\lib\\site-packages\\splinter\\driver\\webdriver\\chrome.py:42\u001b[0m, in \u001b[0;36mWebDriver.__init__\u001b[1;34m(self, options, user_agent, wait_time, fullscreen, incognito, headless, **kwargs)\u001b[0m\n\u001b[0;32m     39\u001b[0m     options\u001b[39m.\u001b[39madd_argument(\u001b[39m\"\u001b[39m\u001b[39m--headless\u001b[39m\u001b[39m\"\u001b[39m)\n\u001b[0;32m     40\u001b[0m     options\u001b[39m.\u001b[39madd_argument(\u001b[39m\"\u001b[39m\u001b[39m--disable-gpu\u001b[39m\u001b[39m\"\u001b[39m)\n\u001b[1;32m---> 42\u001b[0m driver \u001b[39m=\u001b[39m Chrome(options\u001b[39m=\u001b[39moptions, \u001b[39m*\u001b[39m\u001b[39m*\u001b[39mkwargs)\n\u001b[0;32m     44\u001b[0m \u001b[39msuper\u001b[39m(WebDriver, \u001b[39mself\u001b[39m)\u001b[39m.\u001b[39m\u001b[39m__init__\u001b[39m(driver, wait_time)\n",
      "File \u001b[1;32mc:\\Users\\User\\anaconda3\\envs\\dev\\lib\\site-packages\\selenium\\webdriver\\chrome\\webdriver.py:70\u001b[0m, in \u001b[0;36mWebDriver.__init__\u001b[1;34m(self, executable_path, port, options, service_args, desired_capabilities, service_log_path, chrome_options, service, keep_alive)\u001b[0m\n\u001b[0;32m     67\u001b[0m \u001b[39mif\u001b[39;00m \u001b[39mnot\u001b[39;00m service:\n\u001b[0;32m     68\u001b[0m     service \u001b[39m=\u001b[39m Service(executable_path, port, service_args, service_log_path)\n\u001b[1;32m---> 70\u001b[0m \u001b[39msuper\u001b[39;49m(WebDriver, \u001b[39mself\u001b[39;49m)\u001b[39m.\u001b[39;49m\u001b[39m__init__\u001b[39;49m(DesiredCapabilities\u001b[39m.\u001b[39;49mCHROME[\u001b[39m'\u001b[39;49m\u001b[39mbrowserName\u001b[39;49m\u001b[39m'\u001b[39;49m], \u001b[39m\"\u001b[39;49m\u001b[39mgoog\u001b[39;49m\u001b[39m\"\u001b[39;49m,\n\u001b[0;32m     71\u001b[0m                                 port, options,\n\u001b[0;32m     72\u001b[0m                                 service_args, desired_capabilities,\n\u001b[0;32m     73\u001b[0m                                 service_log_path, service, keep_alive)\n",
      "File \u001b[1;32mc:\\Users\\User\\anaconda3\\envs\\dev\\lib\\site-packages\\selenium\\webdriver\\chromium\\webdriver.py:92\u001b[0m, in \u001b[0;36mChromiumDriver.__init__\u001b[1;34m(self, browser_name, vendor_prefix, port, options, service_args, desired_capabilities, service_log_path, service, keep_alive)\u001b[0m\n\u001b[0;32m     89\u001b[0m \u001b[39mself\u001b[39m\u001b[39m.\u001b[39mservice\u001b[39m.\u001b[39mstart()\n\u001b[0;32m     91\u001b[0m \u001b[39mtry\u001b[39;00m:\n\u001b[1;32m---> 92\u001b[0m     RemoteWebDriver\u001b[39m.\u001b[39;49m\u001b[39m__init__\u001b[39;49m(\n\u001b[0;32m     93\u001b[0m         \u001b[39mself\u001b[39;49m,\n\u001b[0;32m     94\u001b[0m         command_executor\u001b[39m=\u001b[39;49mChromiumRemoteConnection(\n\u001b[0;32m     95\u001b[0m             remote_server_addr\u001b[39m=\u001b[39;49m\u001b[39mself\u001b[39;49m\u001b[39m.\u001b[39;49mservice\u001b[39m.\u001b[39;49mservice_url,\n\u001b[0;32m     96\u001b[0m             browser_name\u001b[39m=\u001b[39;49mbrowser_name, vendor_prefix\u001b[39m=\u001b[39;49mvendor_prefix,\n\u001b[0;32m     97\u001b[0m             keep_alive\u001b[39m=\u001b[39;49mkeep_alive, ignore_proxy\u001b[39m=\u001b[39;49m_ignore_proxy),\n\u001b[0;32m     98\u001b[0m         options\u001b[39m=\u001b[39;49moptions)\n\u001b[0;32m     99\u001b[0m \u001b[39mexcept\u001b[39;00m \u001b[39mException\u001b[39;00m:\n\u001b[0;32m    100\u001b[0m     \u001b[39mself\u001b[39m\u001b[39m.\u001b[39mquit()\n",
      "File \u001b[1;32mc:\\Users\\User\\anaconda3\\envs\\dev\\lib\\site-packages\\selenium\\webdriver\\remote\\webdriver.py:275\u001b[0m, in \u001b[0;36mWebDriver.__init__\u001b[1;34m(self, command_executor, desired_capabilities, browser_profile, proxy, keep_alive, file_detector, options)\u001b[0m\n\u001b[0;32m    273\u001b[0m \u001b[39mself\u001b[39m\u001b[39m.\u001b[39m_authenticator_id \u001b[39m=\u001b[39m \u001b[39mNone\u001b[39;00m\n\u001b[0;32m    274\u001b[0m \u001b[39mself\u001b[39m\u001b[39m.\u001b[39mstart_client()\n\u001b[1;32m--> 275\u001b[0m \u001b[39mself\u001b[39;49m\u001b[39m.\u001b[39;49mstart_session(capabilities, browser_profile)\n",
      "File \u001b[1;32mc:\\Users\\User\\anaconda3\\envs\\dev\\lib\\site-packages\\selenium\\webdriver\\remote\\webdriver.py:365\u001b[0m, in \u001b[0;36mWebDriver.start_session\u001b[1;34m(self, capabilities, browser_profile)\u001b[0m\n\u001b[0;32m    363\u001b[0m w3c_caps \u001b[39m=\u001b[39m _make_w3c_caps(capabilities)\n\u001b[0;32m    364\u001b[0m parameters \u001b[39m=\u001b[39m {\u001b[39m\"\u001b[39m\u001b[39mcapabilities\u001b[39m\u001b[39m\"\u001b[39m: w3c_caps}\n\u001b[1;32m--> 365\u001b[0m response \u001b[39m=\u001b[39m \u001b[39mself\u001b[39;49m\u001b[39m.\u001b[39;49mexecute(Command\u001b[39m.\u001b[39;49mNEW_SESSION, parameters)\n\u001b[0;32m    366\u001b[0m \u001b[39mif\u001b[39;00m \u001b[39m'\u001b[39m\u001b[39msessionId\u001b[39m\u001b[39m'\u001b[39m \u001b[39mnot\u001b[39;00m \u001b[39min\u001b[39;00m response:\n\u001b[0;32m    367\u001b[0m     response \u001b[39m=\u001b[39m response[\u001b[39m'\u001b[39m\u001b[39mvalue\u001b[39m\u001b[39m'\u001b[39m]\n",
      "File \u001b[1;32mc:\\Users\\User\\anaconda3\\envs\\dev\\lib\\site-packages\\selenium\\webdriver\\remote\\webdriver.py:430\u001b[0m, in \u001b[0;36mWebDriver.execute\u001b[1;34m(self, driver_command, params)\u001b[0m\n\u001b[0;32m    428\u001b[0m response \u001b[39m=\u001b[39m \u001b[39mself\u001b[39m\u001b[39m.\u001b[39mcommand_executor\u001b[39m.\u001b[39mexecute(driver_command, params)\n\u001b[0;32m    429\u001b[0m \u001b[39mif\u001b[39;00m response:\n\u001b[1;32m--> 430\u001b[0m     \u001b[39mself\u001b[39;49m\u001b[39m.\u001b[39;49merror_handler\u001b[39m.\u001b[39;49mcheck_response(response)\n\u001b[0;32m    431\u001b[0m     response[\u001b[39m'\u001b[39m\u001b[39mvalue\u001b[39m\u001b[39m'\u001b[39m] \u001b[39m=\u001b[39m \u001b[39mself\u001b[39m\u001b[39m.\u001b[39m_unwrap_value(\n\u001b[0;32m    432\u001b[0m         response\u001b[39m.\u001b[39mget(\u001b[39m'\u001b[39m\u001b[39mvalue\u001b[39m\u001b[39m'\u001b[39m, \u001b[39mNone\u001b[39;00m))\n\u001b[0;32m    433\u001b[0m     \u001b[39mreturn\u001b[39;00m response\n",
      "File \u001b[1;32mc:\\Users\\User\\anaconda3\\envs\\dev\\lib\\site-packages\\selenium\\webdriver\\remote\\errorhandler.py:247\u001b[0m, in \u001b[0;36mErrorHandler.check_response\u001b[1;34m(self, response)\u001b[0m\n\u001b[0;32m    245\u001b[0m         alert_text \u001b[39m=\u001b[39m value[\u001b[39m'\u001b[39m\u001b[39malert\u001b[39m\u001b[39m'\u001b[39m]\u001b[39m.\u001b[39mget(\u001b[39m'\u001b[39m\u001b[39mtext\u001b[39m\u001b[39m'\u001b[39m)\n\u001b[0;32m    246\u001b[0m     \u001b[39mraise\u001b[39;00m exception_class(message, screen, stacktrace, alert_text)  \u001b[39m# type: ignore[call-arg]  # mypy is not smart enough here\u001b[39;00m\n\u001b[1;32m--> 247\u001b[0m \u001b[39mraise\u001b[39;00m exception_class(message, screen, stacktrace)\n",
      "\u001b[1;31mSessionNotCreatedException\u001b[0m: Message: session not created: This version of ChromeDriver only supports Chrome version 117\nCurrent browser version is 119.0.6045.124 with binary path C:\\Program Files\\Google\\Chrome\\Application\\chrome.exe\nStacktrace:\n\tGetHandleVerifier [0x00007FF6E40E7892+54818]\n\t(No symbol) [0x00007FF6E4056AC2]\n\t(No symbol) [0x00007FF6E3F0DA3B]\n\t(No symbol) [0x00007FF6E3F40972]\n\t(No symbol) [0x00007FF6E3F3FDCE]\n\t(No symbol) [0x00007FF6E3F3AA4B]\n\t(No symbol) [0x00007FF6E3F3802E]\n\t(No symbol) [0x00007FF6E3F767FB]\n\t(No symbol) [0x00007FF6E3F6E883]\n\t(No symbol) [0x00007FF6E3F43691]\n\t(No symbol) [0x00007FF6E3F448D4]\n\tGetHandleVerifier [0x00007FF6E444B992+3610402]\n\tGetHandleVerifier [0x00007FF6E44A1860+3962352]\n\tGetHandleVerifier [0x00007FF6E4499D4F+3930847]\n\tGetHandleVerifier [0x00007FF6E4183646+693206]\n\t(No symbol) [0x00007FF6E4061628]\n\t(No symbol) [0x00007FF6E405D934]\n\t(No symbol) [0x00007FF6E405DA62]\n\t(No symbol) [0x00007FF6E404E113]\n\tBaseThreadInitThunk [0x00007FFAA5247344+20]\n\tRtlUserThreadStart [0x00007FFAA6C226B1+33]\n"
     ]
    }
   ],
   "source": [
    "# Open automated browser\n",
    "browser = Browser('chrome')\n",
    "\n",
    "# Visit website\n",
    "base_url = \"https://www.bbcgoodfood.com\"\n",
    "\n",
    "search_term = 'healthy'\n",
    "search = f\"/search?q={search_term}\"\n",
    "\n",
    "browser.visit(base_url + search)\n",
    "\n",
    "# Create a Beautiful Soup object\n",
    "html = browser.html\n",
    "soup = BeautifulSoup(html, 'html.parser')\n",
    "\n",
    "# Ready message\n",
    "print(\"Browser open. Session started.\")\n",
    "\n",
    "articles = soup.find_all('article', class_='card text-align-left card--horizontal card--inline card--with-borders')\n",
    "\n",
    "links = []\n",
    "\n",
    "for element in articles:\n",
    "    links.append(element.find('a')['href'])\n",
    "\n",
    "print(f\"{len(links)} recipes found.\")"
   ]
  },
  {
   "cell_type": "code",
   "execution_count": 2,
   "metadata": {},
   "outputs": [],
   "source": [
    "def get_recipes(links, exlude_base):\n",
    "    # Create list to save all recipes\n",
    "    recipe_dicts = []\n",
    "    count = 0\n",
    "\n",
    "    for link in links:\n",
    "\n",
    "        # Update counter\n",
    "        count += 1\n",
    "        print(f\"Recipe {count}/{len(links)}\")\n",
    "\n",
    "        # Create recipe url\n",
    "        if exlude_base:\n",
    "            recipe_url = link\n",
    "        else:\n",
    "            recipe_url = base_url + link\n",
    "            \n",
    "        # Visit page\n",
    "        browser.visit(recipe_url)\n",
    "\n",
    "        # Create a Beautiful Soup object\n",
    "        html = browser.html\n",
    "        soup = BeautifulSoup(html, 'html.parser')\n",
    "\n",
    "        # Ready message\n",
    "        print(f\"Now on page: {recipe_url}\")\n",
    "\n",
    "        # Get recipe name\n",
    "        name = soup.find('h1', class_='heading-1').get_text()\n",
    "\n",
    "        print(f\"Recipe: {name}\")\n",
    "\n",
    "        # Get ingredients\n",
    "        ingredients_html = soup.find_all('li', class_='pb-xxs pt-xxs list-item list-item--separator')\n",
    "\n",
    "        ingredients = []\n",
    "\n",
    "        for ing in ingredients_html:\n",
    "            ingredients.append(ing.get_text())\n",
    "\n",
    "        img_html = soup.find_all('div', class_='image chromatic-ignore post-header-image image--fluid image--scaled-up')\n",
    "        img_src = img_html[0].find('img')['src']\n",
    "\n",
    "        # Get steps\n",
    "        steps_html = soup.find('section', class_='recipe__method-steps mb-lg col-12 col-lg-6').find_all('li')\n",
    "\n",
    "        steps = []\n",
    "        for step in steps_html:\n",
    "            steps.append(step.get_text())\n",
    "\n",
    "        # Get rating\n",
    "        rating = soup.find('div', class_='rating__values')\n",
    "        stars = rating.find_all('span')[0].get_text()\n",
    "        votes = rating.find_all('span')[1].get_text()\n",
    "\n",
    "        print(f\"{stars} {votes}\")\n",
    "\n",
    "        # Save recipe in a dictionary\n",
    "        recipe = {'name': name,\n",
    "                'link': recipe_url,\n",
    "                'ingredients_num': len(ingredients),\n",
    "                'ingredients': ingredients,\n",
    "                'steps': steps,\n",
    "                'stars': stars,\n",
    "                'votes': votes,\n",
    "                'img': img_src}\n",
    "        \n",
    "        # Add dictionary to list\n",
    "        recipe_dicts.append(recipe)\n",
    "\n",
    "    return recipe_dicts\n"
   ]
  },
  {
   "cell_type": "code",
   "execution_count": 3,
   "metadata": {},
   "outputs": [
    {
     "name": "stdout",
     "output_type": "stream",
     "text": [
      "Recipe 1/6\n"
     ]
    },
    {
     "ename": "NameError",
     "evalue": "name 'browser' is not defined",
     "output_type": "error",
     "traceback": [
      "\u001b[1;31m---------------------------------------------------------------------------\u001b[0m",
      "\u001b[1;31mNameError\u001b[0m                                 Traceback (most recent call last)",
      "\u001b[1;32mc:\\Users\\User\\OneDrive\\Documents\\Dev\\Recipes\\YummyStuff\\recipes_finder.ipynb Cell 6\u001b[0m line \u001b[0;36m4\n\u001b[0;32m     <a href='vscode-notebook-cell:/c%3A/Users/User/OneDrive/Documents/Dev/Recipes/YummyStuff/recipes_finder.ipynb#W5sZmlsZQ%3D%3D?line=38'>39</a>\u001b[0m \u001b[39m# Save recipes in a DataFrame\u001b[39;00m\n\u001b[0;32m     <a href='vscode-notebook-cell:/c%3A/Users/User/OneDrive/Documents/Dev/Recipes/YummyStuff/recipes_finder.ipynb#W5sZmlsZQ%3D%3D?line=39'>40</a>\u001b[0m \u001b[39mimport\u001b[39;00m \u001b[39mpandas\u001b[39;00m \u001b[39mas\u001b[39;00m \u001b[39mpd\u001b[39;00m\n\u001b[1;32m---> <a href='vscode-notebook-cell:/c%3A/Users/User/OneDrive/Documents/Dev/Recipes/YummyStuff/recipes_finder.ipynb#W5sZmlsZQ%3D%3D?line=40'>41</a>\u001b[0m recipe_dicts \u001b[39m=\u001b[39m get_recipes(links_231113, \u001b[39mTrue\u001b[39;49;00m)\n\u001b[0;32m     <a href='vscode-notebook-cell:/c%3A/Users/User/OneDrive/Documents/Dev/Recipes/YummyStuff/recipes_finder.ipynb#W5sZmlsZQ%3D%3D?line=41'>42</a>\u001b[0m recipes_df \u001b[39m=\u001b[39m pd\u001b[39m.\u001b[39mDataFrame(recipe_dicts)\n\u001b[0;32m     <a href='vscode-notebook-cell:/c%3A/Users/User/OneDrive/Documents/Dev/Recipes/YummyStuff/recipes_finder.ipynb#W5sZmlsZQ%3D%3D?line=43'>44</a>\u001b[0m \u001b[39m# Save df as a CSV file (optional)\u001b[39;00m\n",
      "\u001b[1;32mc:\\Users\\User\\OneDrive\\Documents\\Dev\\Recipes\\YummyStuff\\recipes_finder.ipynb Cell 6\u001b[0m line \u001b[0;36m1\n\u001b[0;32m     <a href='vscode-notebook-cell:/c%3A/Users/User/OneDrive/Documents/Dev/Recipes/YummyStuff/recipes_finder.ipynb#W5sZmlsZQ%3D%3D?line=15'>16</a>\u001b[0m     recipe_url \u001b[39m=\u001b[39m base_url \u001b[39m+\u001b[39m link\n\u001b[0;32m     <a href='vscode-notebook-cell:/c%3A/Users/User/OneDrive/Documents/Dev/Recipes/YummyStuff/recipes_finder.ipynb#W5sZmlsZQ%3D%3D?line=17'>18</a>\u001b[0m \u001b[39m# Visit page\u001b[39;00m\n\u001b[1;32m---> <a href='vscode-notebook-cell:/c%3A/Users/User/OneDrive/Documents/Dev/Recipes/YummyStuff/recipes_finder.ipynb#W5sZmlsZQ%3D%3D?line=18'>19</a>\u001b[0m browser\u001b[39m.\u001b[39mvisit(recipe_url)\n\u001b[0;32m     <a href='vscode-notebook-cell:/c%3A/Users/User/OneDrive/Documents/Dev/Recipes/YummyStuff/recipes_finder.ipynb#W5sZmlsZQ%3D%3D?line=20'>21</a>\u001b[0m \u001b[39m# Create a Beautiful Soup object\u001b[39;00m\n\u001b[0;32m     <a href='vscode-notebook-cell:/c%3A/Users/User/OneDrive/Documents/Dev/Recipes/YummyStuff/recipes_finder.ipynb#W5sZmlsZQ%3D%3D?line=21'>22</a>\u001b[0m html \u001b[39m=\u001b[39m browser\u001b[39m.\u001b[39mhtml\n",
      "\u001b[1;31mNameError\u001b[0m: name 'browser' is not defined"
     ]
    }
   ],
   "source": [
    "# Manual recipe entry\n",
    "links_231017 = ['https://www.bbcgoodfood.com/recipes/turkey-pasta-bake',\n",
    "                'https://www.bbcgoodfood.com/recipes/chicken-tinga-style-enchiladas',\n",
    "                'https://www.bbcgoodfood.com/recipes/chole-with-cumin-rice-raita',\n",
    "                'https://www.bbcgoodfood.com/recipes/spicy-sausage-bean-one-pot',\n",
    "                'https://www.bbcgoodfood.com/recipes/red-lentil-squash-dhal',\n",
    "                'https://www.bbcgoodfood.com/recipes/scandi-meatballs',\n",
    "                'https://www.bbcgoodfood.com/recipes/pilchard-puttanesca',\n",
    "                'https://www.bbcgoodfood.com/recipes/chorizo-rosemary-pearl-barley-risotto',\n",
    "                'https://www.bbcgoodfood.com/recipes/smoky-sweet-potato-bean-cakes-citrus-salad',\n",
    "                'https://www.bbcgoodfood.com/recipes/courgette-sausage-rigatoni-bakes',\n",
    "                'https://www.bbcgoodfood.com/recipes/clementine-pork-steaks',\n",
    "                'https://www.bbcgoodfood.com/recipes/sticky-chinese-chicken-traybake',\n",
    "                'https://www.bbcgoodfood.com/recipes/jumbo-sausage-roll-salsa-beans',\n",
    "                'https://www.bbcgoodfood.com/recipes/smoky-chickpeas-toast',\n",
    "                'https://www.bbcgoodfood.com/recipes/smoked-mackerel-chowder-hedgehog-garlic-bread-0',\n",
    "                'https://www.bbcgoodfood.com/recipes/miso-mushroom-tofu-noodle-soup',\n",
    "                'https://www.bbcgoodfood.com/recipes/corned-beef-hash',\n",
    "                'https://www.bbcgoodfood.com/recipes/cali-kale-sausage-bake']\n",
    "\n",
    "links_231025 = ['https://www.bbcgoodfood.com/recipes/chicken-tinga-style-enchiladas',\n",
    "                'https://www.bbcgoodfood.com/recipes/chicken-new-potato-traybake',\n",
    "                'https://www.bbcgoodfood.com/recipes/classic-meatloaf-tomato-sauce',\n",
    "                'https://www.bbcgoodfood.com/recipes/butternut-squash-cherry-tomato-crumble',\n",
    "                'https://www.bbcgoodfood.com/recipes/simple-mushroom-curry',\n",
    "                'https://www.bbcgoodfood.com/recipes/bean-enchiladas',\n",
    "                'https://www.bbcgoodfood.com/recipes/creamy-baked-gnocchi-with-squash-spinach',\n",
    "                'https://www.bbcgoodfood.com/recipes/curried-sate-noodles',\n",
    "                'https://www.bbcgoodfood.com/recipes/satay-sweet-potato-curry',\n",
    "                'https://www.bbcgoodfood.com/recipes/bean-halloumi-stew']\n",
    "\n",
    "links_231113 = ['https://www.bbcgoodfood.com/recipes/spicy-sausage-bean-one-pot',\n",
    "                'https://www.bbcgoodfood.com/recipes/piri-piri-chicken-pittas',\n",
    "                'https://www.bbcgoodfood.com/recipes/sesame-pork-meatballs-chilli-noodle-broth',\n",
    "                'https://www.bbcgoodfood.com/recipes/beef-curry',\n",
    "                'https://www.bbcgoodfood.com/recipes/aubergine-halloumi-harissa-skillet-bake',\n",
    "                'https://www.bbcgoodfood.com/recipes/leek-mushroom-gruyere-quiche']\n",
    "\n",
    "# Save recipes in a DataFrame\n",
    "import pandas as pd\n",
    "recipe_dicts = get_recipes(links_231113, True)\n",
    "recipes_df = pd.DataFrame(recipe_dicts)\n",
    "\n",
    "# Save df as a CSV file (optional)\n",
    "recipes_df.to_csv('recipes_2023-11-13.csv', index=False)\n",
    "\n",
    "recipes_df"
   ]
  },
  {
   "cell_type": "code",
   "execution_count": 11,
   "metadata": {},
   "outputs": [],
   "source": [
    "# Save df as a CSV file (optional)\n",
    "recipes_df.to_csv('recipes_2023-10-17.csv', index=False)"
   ]
  },
  {
   "cell_type": "code",
   "execution_count": 136,
   "metadata": {},
   "outputs": [],
   "source": [
    "# Save recipes as a JSON file\n",
    "recipes_df.to_json('recipes.json')"
   ]
  },
  {
   "cell_type": "markdown",
   "metadata": {},
   "source": [
    "## End session"
   ]
  },
  {
   "cell_type": "code",
   "execution_count": 3,
   "metadata": {},
   "outputs": [],
   "source": [
    "# End the automated browsing session\n",
    "browser.quit()"
   ]
  }
 ],
 "metadata": {
  "kernelspec": {
   "display_name": "Python 3",
   "language": "python",
   "name": "python3"
  },
  "language_info": {
   "codemirror_mode": {
    "name": "ipython",
    "version": 3
   },
   "file_extension": ".py",
   "mimetype": "text/x-python",
   "name": "python",
   "nbconvert_exporter": "python",
   "pygments_lexer": "ipython3",
   "version": "3.10.11"
  },
  "orig_nbformat": 4
 },
 "nbformat": 4,
 "nbformat_minor": 2
}
